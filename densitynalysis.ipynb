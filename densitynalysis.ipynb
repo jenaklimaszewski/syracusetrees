{
 "cells": [
  {
   "cell_type": "markdown",
   "id": "f0b82eee",
   "metadata": {},
   "source": [
    "Density Analysis"
   ]
  },
  {
   "cell_type": "code",
   "execution_count": null,
   "id": "913cda03",
   "metadata": {},
   "outputs": [],
   "source": []
  }
 ],
 "metadata": {
  "kernelspec": {
   "display_name": "Python 3",
   "language": "python",
   "name": "python3"
  },
  "language_info": {
   "name": "python",
   "version": "3.11.9"
  }
 },
 "nbformat": 4,
 "nbformat_minor": 5
}
