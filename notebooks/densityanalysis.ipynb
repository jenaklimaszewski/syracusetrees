{
 "cells": [
  {
   "cell_type": "markdown",
   "id": "f0b82eee",
   "metadata": {},
   "source": [
    "Tree Density Analysis"
   ]
  },
  {
   "cell_type": "code",
   "execution_count": 10,
   "id": "913cda03",
   "metadata": {},
   "outputs": [],
   "source": [
    "# Packages\n",
    "import geopandas as gpd\n",
    "from pathlib import Path\n",
    "import matplotlib\n",
    "import fiona\n",
    "import os"
   ]
  },
  {
   "cell_type": "code",
   "execution_count": 14,
   "id": "c6e5b3b1",
   "metadata": {},
   "outputs": [],
   "source": [
    "# Reading in shapefiles\n",
    "trees_path = Path(r\"C:\\\\Users\\\\Jena-\\\\syracusetrees\\\\shapefiles\\\\Syracuse_Tree_Data\\\\Syracuse_Tree_Data.shp\")\n",
    "tracts_path = Path(r\"C:\\\\Users\\\\Jena-\\\\syracusetrees\\\\shapefiles\\\\Census_Tracts_in_Syracuse_NY\\\\Census_Tracts_in_Syracuse_NY_-_2020.shp\")\n",
    "\n",
    "trees = gpd.read_file(trees_path)\n",
    "tracts = gpd.read_file(tracts_path)"
   ]
  },
  {
   "cell_type": "code",
   "execution_count": 15,
   "id": "2124de9f",
   "metadata": {},
   "outputs": [],
   "source": [
    "# Spatial Join\n",
    "tree_tract = gpd.sjoin(trees, tracts, how=\"inner\", predicate=\"intersects\")"
   ]
  }
 ],
 "metadata": {
  "kernelspec": {
   "display_name": "Python 3",
   "language": "python",
   "name": "python3"
  },
  "language_info": {
   "codemirror_mode": {
    "name": "ipython",
    "version": 3
   },
   "file_extension": ".py",
   "mimetype": "text/x-python",
   "name": "python",
   "nbconvert_exporter": "python",
   "pygments_lexer": "ipython3",
   "version": "3.11.9"
  }
 },
 "nbformat": 4,
 "nbformat_minor": 5
}
