{
 "cells": [
  {
   "cell_type": "markdown",
   "id": "1a539f08",
   "metadata": {},
   "source": [
    "Income and Tree Density"
   ]
  },
  {
   "cell_type": "code",
   "execution_count": null,
   "id": "e5fad9c5",
   "metadata": {},
   "outputs": [],
   "source": [
    "# Packages\n",
    "import geopandas as gpd\n",
    "import censusdata"
   ]
  },
  {
   "cell_type": "code",
   "execution_count": 5,
   "id": "d66104f2",
   "metadata": {},
   "outputs": [],
   "source": [
    "# Loading in Data\n",
    "state_fips = '36'\n",
    "county_fips = '067'\n",
    "income_data = censusdata.download(\n",
    "    'acs5',\n",
    "    2022,\n",
    "    censusdata.censusgeo([('state', state_fips), ('county', county_fips), ('tract', '*')]),\n",
    "    ['B19013_001E']\n",
    ")"
   ]
  },
  {
   "cell_type": "code",
   "execution_count": 8,
   "id": "e2359608",
   "metadata": {},
   "outputs": [
    {
     "ename": "NameError",
     "evalue": "name 'tracts_with_counts' is not defined",
     "output_type": "error",
     "traceback": [
      "\u001b[31m---------------------------------------------------------------------------\u001b[39m",
      "\u001b[31mNameError\u001b[39m                                 Traceback (most recent call last)",
      "\u001b[36mCell\u001b[39m\u001b[36m \u001b[39m\u001b[32mIn[8]\u001b[39m\u001b[32m, line 2\u001b[39m\n\u001b[32m      1\u001b[39m \u001b[38;5;66;03m# Merge income data with tree density data\u001b[39;00m\n\u001b[32m----> \u001b[39m\u001b[32m2\u001b[39m tracts_with_income = \u001b[43mtracts_with_counts\u001b[49m.merge(income_data[[\u001b[33m'\u001b[39m\u001b[33mGEOID\u001b[39m\u001b[33m'\u001b[39m, \u001b[33m'\u001b[39m\u001b[33mMedian_Income\u001b[39m\u001b[33m'\u001b[39m]], on=\u001b[33m'\u001b[39m\u001b[33mGEOID\u001b[39m\u001b[33m'\u001b[39m, how=\u001b[33m'\u001b[39m\u001b[33mleft\u001b[39m\u001b[33m'\u001b[39m)\n",
      "\u001b[31mNameError\u001b[39m: name 'tracts_with_counts' is not defined"
     ]
    }
   ],
   "source": [
    "# Merge income data with tree density data\n",
    "tracts_with_income = tracts_with_counts.merge(income_data[['GEOID', 'Median_Income']], on='GEOID', how='left')\n"
   ]
  }
 ],
 "metadata": {
  "kernelspec": {
   "display_name": "Python 3",
   "language": "python",
   "name": "python3"
  },
  "language_info": {
   "codemirror_mode": {
    "name": "ipython",
    "version": 3
   },
   "file_extension": ".py",
   "mimetype": "text/x-python",
   "name": "python",
   "nbconvert_exporter": "python",
   "pygments_lexer": "ipython3",
   "version": "3.11.9"
  }
 },
 "nbformat": 4,
 "nbformat_minor": 5
}
